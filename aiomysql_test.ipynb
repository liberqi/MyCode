{
 "cells": [
  {
   "cell_type": "code",
   "execution_count": 1,
   "metadata": {},
   "outputs": [],
   "source": [
    "import asyncio\n",
    "import aiomysql\n",
    "\n",
    "loop = asyncio.get_event_loop()"
   ]
  },
  {
   "cell_type": "code",
   "execution_count": 2,
   "metadata": {
    "collapsed": true
   },
   "outputs": [],
   "source": [
    "DATABASE_USER = 'root'\n",
    "PASSWORD = '*********'\n",
    "DATABASE_NAME = 'test'\n",
    "HOST = 'localhost'\n",
    "PORT = 3306\n",
    "\n",
    "async def go(loop):\n",
    "    try:\n",
    "        pool = await aiomysql.create_pool(user=DATABASE_USER,\n",
    "                                         password=PASSWORD,\n",
    "                                         db=DATABASE_NAME,\n",
    "                                         host=HOST,\n",
    "                                         charset='utf8',\n",
    "                                         autocommit=True,\n",
    "                                         loop=loop)\n",
    "\n",
    "        async with pool.acquire() as conn:\n",
    "            async with conn.cursor() as cur:\n",
    "                await cur.execute(\"SELECT * FROM test\")\n",
    "                print(cur.description)\n",
    "                rs = await cur.fetchall()\n",
    "                \n",
    "    finally:\n",
    "        pool.close()  #数据库连接和cursor同时关闭\n",
    "        await pool.wait_closed()\n",
    "        print(cur.closed)\n",
    "        return rs"
   ]
  },
  {
   "cell_type": "code",
   "execution_count": 3,
   "metadata": {},
   "outputs": [
    {
     "name": "stdout",
     "output_type": "stream",
     "text": [
      "(('id', 3, None, 11, 11, 0, False), ('name', 253, None, 50, 50, 0, False), ('password', 253, None, 50, 50, 0, False))\n",
      "True\n"
     ]
    }
   ],
   "source": [
    "rs = loop.run_until_complete(go(loop))"
   ]
  },
  {
   "cell_type": "code",
   "execution_count": 4,
   "metadata": {},
   "outputs": [
    {
     "data": {
      "text/plain": [
       "((1, 'tom', '123456'), (2, 'marry', '145867'), (3, 'jim', 'awe123'))"
      ]
     },
     "execution_count": 4,
     "metadata": {},
     "output_type": "execute_result"
    }
   ],
   "source": [
    "rs"
   ]
  },
  {
   "cell_type": "code",
   "execution_count": null,
   "metadata": {
    "collapsed": true
   },
   "outputs": [],
   "source": [
    "\"\"\"全局连接池,连接池中直接获取数据库连接\n",
    "所有数据存取完毕时关闭数据库连接\n",
    "\"\"\"\n",
    "import asyncio\n",
    "import aiomysql\n",
    "\n",
    "DATABASE_USER = 'root'\n",
    "PASSWORD = '*********.'\n",
    "DATABASE_NAME = 'test'\n",
    "HOST = 'localhost'\n",
    "PORT = 3306\n",
    "\n",
    "\n",
    "class AsyncDatabase:\n",
    "\n",
    "    def __init__(self,loop=None):\n",
    "        \n",
    "        \"\"\"\n",
    "        Database operations：mysql\n",
    "        \"\"\"\n",
    "        self.loop = loop or asyncio.get_event_loop()\n",
    "        # asyncpg\n",
    "    async def create_pool(self):\n",
    "        self.conn_pool = await aiomysql.create_pool(\n",
    "                                                 user=DATABASE_USER,\n",
    "                                                 password=PASSWORD,\n",
    "                                                 db=DATABASE_NAME,\n",
    "                                                 host=HOST,\n",
    "                                                 charset='utf8',\n",
    "                                                 autocommit=True,\n",
    "                                                 loop=self.loop)\n",
    "    # 最后关闭    \n",
    "    async def close(self):\n",
    "        \"\"\"close db connect\n",
    "        \"\"\"\n",
    "        self.conn_pool.close()\n",
    "        await self.conn_pool.wait_closed()\n",
    "\n",
    "    async def select_data(self, sql, size=None):\n",
    "        await self.create_pool()\n",
    "        \n",
    "        async with self.conn_pool.acquire() as conn:\n",
    "            async with conn.cursor() as cur:\n",
    "            # cur = await conn.cursor(aiomysql.DictCursor)\n",
    "                await cur.execute(sql)\n",
    "                if size:\n",
    "                    rs = await cur.fetchmany(size)\n",
    "                else:\n",
    "                    rs = await cur.fetchall()\n",
    "                \n",
    "                return rs"
   ]
  },
  {
   "cell_type": "code",
   "execution_count": null,
   "metadata": {
    "collapsed": true
   },
   "outputs": [],
   "source": []
  }
 ],
 "metadata": {
  "kernelspec": {
   "display_name": "Python 3",
   "language": "python",
   "name": "python3"
  },
  "language_info": {
   "codemirror_mode": {
    "name": "ipython",
    "version": 3
   },
   "file_extension": ".py",
   "mimetype": "text/x-python",
   "name": "python",
   "nbconvert_exporter": "python",
   "pygments_lexer": "ipython3",
   "version": "3.5.3"
  }
 },
 "nbformat": 4,
 "nbformat_minor": 2
}
