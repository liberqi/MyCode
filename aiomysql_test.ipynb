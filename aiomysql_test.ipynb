{
 "cells": [
  {
   "cell_type": "code",
   "execution_count": 1,
   "metadata": {
    "collapsed": true
   },
   "outputs": [],
   "source": [
    "import asyncio\n",
    "import aiomysql\n",
    "\n",
    "loop = asyncio.get_event_loop()"
   ]
  },
  {
   "cell_type": "code",
   "execution_count": 2,
   "metadata": {
    "collapsed": true
   },
   "outputs": [],
   "source": [
    "DATABASE_CONFIG = {\n",
    "    'host': 'localhost',\n",
    "    'port': 3306,\n",
    "    'db': 'test',\n",
    "    'user': 'root',\n",
    "    'password': '*********',\n",
    "    'charset':'utf8',\n",
    "    'autocommit': True\n",
    "}"
   ]
  },
  {
   "cell_type": "code",
   "execution_count": 3,
   "metadata": {
    "collapsed": true
   },
   "outputs": [],
   "source": [
    "\"\"\"\n",
    "DATABASE_USER = 'root'\n",
    "PASSWORD = '**********'\n",
    "DATABASE_NAME = 'test'\n",
    "HOST = 'localhost'\n",
    "PORT = 3306\n",
    "\"\"\"\n",
    "\n",
    "DATABASE_CONFIG = {\n",
    "    'host': 'localhost',\n",
    "    'port': 3306,\n",
    "    'db': 'test',\n",
    "    'user': 'root',\n",
    "    'password': 'Mysql@zhangqi',\n",
    "    'charset':'utf8',\n",
    "    'autocommit': True\n",
    "}\n",
    "\n",
    "async def go(loop):\n",
    "    try:\n",
    "        pool = await aiomysql.create_pool(**DATABASE_CONFIG,loop=loop)\n",
    "\n",
    "        async with pool.acquire() as conn:\n",
    "            async with conn.cursor() as cur:\n",
    "                await cur.execute(\"SELECT * FROM test\")\n",
    "                # await cur.execute(\"INSERT INTO test(name, password) VALUES ('liberqi','qwe123')\")\n",
    "                print(cur.description)\n",
    "                rs = await cur.fetchall()\n",
    "                \n",
    "    finally:\n",
    "        pool.close()\n",
    "        await pool.wait_closed()\n",
    "        print(cur.closed)\n",
    "        return rs"
   ]
  },
  {
   "cell_type": "code",
   "execution_count": 4,
   "metadata": {},
   "outputs": [
    {
     "name": "stdout",
     "output_type": "stream",
     "text": [
      "(('id', 3, None, 11, 11, 0, False), ('name', 253, None, 50, 50, 0, False), ('password', 253, None, 50, 50, 0, False))\n",
      "True\n"
     ]
    }
   ],
   "source": [
    "rs = loop.run_until_complete(go(loop))"
   ]
  },
  {
   "cell_type": "code",
   "execution_count": 5,
   "metadata": {},
   "outputs": [
    {
     "data": {
      "text/plain": [
       "((1, 'tom', '123456'),\n",
       " (2, 'marry', '145867'),\n",
       " (3, 'jim', 'awe123'),\n",
       " (4, 'liberqi', 'qwe123'),\n",
       " (6, 'harry', 'asfdvg'),\n",
       " (7, 'William', '147159'),\n",
       " (8, 'Bobby', '666666'))"
      ]
     },
     "execution_count": 5,
     "metadata": {},
     "output_type": "execute_result"
    }
   ],
   "source": [
    "rs"
   ]
  },
  {
   "cell_type": "code",
   "execution_count": 6,
   "metadata": {
    "collapsed": true
   },
   "outputs": [],
   "source": [
    "\"\"\"全局连接池,连接池中直接获取数据库连接\n",
    "所有数据存取完毕时关闭数据库连接\n",
    "\"\"\"\n",
    "import asyncio\n",
    "import aiomysql\n",
    "\n",
    "class AsyncDatabase:\n",
    "\n",
    "    def __init__(self, loop=None, is_pool=False):\n",
    "        \"\"\"Database operations：mysql use aiomysql \n",
    "        param is_pool: create conntection pool default False\n",
    "        \"\"\"\n",
    "        self.loop = loop or asyncio.get_event_loop()\n",
    "        self.is_pool = is_pool # 是否建立连接池,默认False\n",
    "        \n",
    "    # also can use asyncpg\n",
    "    \n",
    "    # create conntection pool\n",
    "    async def create_pool(self):\n",
    "         \n",
    "        self.conn_pool = await aiomysql.create_pool(**DATABASE_CONFIG,loop=self.loop)\n",
    "\n",
    "        \n",
    "    # get conntection   \n",
    "    async def get_conn(self):\n",
    "        if not self.is_pool:\n",
    "            self.conn = await aiomysql.connect(**DATABASE_CONFIG,loop=self.loop)\n",
    "        else:\n",
    "            self.conn = await self.conn_pool.acquire()\n",
    "        \n",
    "    # close conntection\n",
    "    async def close(self):\n",
    "        \"\"\"close db connect\n",
    "        \"\"\"\n",
    "        if not self.is_pool:\n",
    "            self.conn.close()\n",
    "        else:\n",
    "            self.conn.close()\n",
    "            self.conn_pool.close()\n",
    "            await self.conn_pool.wait_closed()\n",
    "        \n",
    "    # select data\n",
    "    async def select_data(self, sql, size=None):\n",
    "        async with self.conn.cursor() as cursor:\n",
    "        # cur = await conn.cursor(aiomysql.DictCursor)\n",
    "            try:\n",
    "                await cursor.execute(sql)\n",
    "                if size:\n",
    "                    rows = await cursor.fetchmany(size)\n",
    "                else:\n",
    "                    rows = await cursor.fetchall()\n",
    "            except aiomysql.MySQLError as e:\n",
    "                await self.close()\n",
    "                raise e\n",
    "            return rows\n",
    "    \n",
    "    # insert data\n",
    "    async def insert_data(self, sql, data):\n",
    "        async with self.conn.cursor() as cursor:\n",
    "            try:\n",
    "                await cursor.executemany(sql, data)\n",
    "                # await cursor.executemany(sql, data)\n",
    "            except aiomysql.MySQLError as e:\n",
    "                await self.close()\n",
    "                raise e\n",
    "\n"
   ]
  },
  {
   "cell_type": "code",
   "execution_count": 7,
   "metadata": {},
   "outputs": [
    {
     "name": "stdout",
     "output_type": "stream",
     "text": [
      "((1, 'tom', '123456'), (2, 'marry', '145867'), (3, 'jim', 'awe123'), (4, 'liberqi', 'qwe123'), (6, 'harry', 'asfdvg'), (7, 'William', '147159'), (8, 'Bobby', '666666'))\n"
     ]
    }
   ],
   "source": [
    "# AsyncDatabase test select\n",
    "async def select(loop):\n",
    "    try:\n",
    "        dber = AsyncDatabase(loop)\n",
    "        await dber.get_conn()\n",
    "        sql = 'SELECT * FROM test'\n",
    "        data = await dber.select_data(sql)\n",
    "    finally:\n",
    "        await dber.close()\n",
    "    return data\n",
    "\n",
    "# test select\n",
    "if __name__ == '__main__':\n",
    "    data = loop.run_until_complete(select(loop))\n",
    "    print(data)"
   ]
  },
  {
   "cell_type": "code",
   "execution_count": 8,
   "metadata": {},
   "outputs": [
    {
     "name": "stdout",
     "output_type": "stream",
     "text": [
      "done!\n"
     ]
    }
   ],
   "source": [
    "# AsyncDatabase test insert\n",
    "name = ['harry', 'William', 'Bobby']\n",
    "password = ['asfdvg', '147159', '666666']\n",
    "data = [name, password]\n",
    "async def insert(loop):\n",
    "    try:\n",
    "        \n",
    "        dber = AsyncDatabase(loop)\n",
    "        await dber.get_conn()\n",
    "        sql = 'INSERT INTO test(name, password) VALUES (%s, %s)'\n",
    "        await dber.insert_data(sql,zip(name,password))\n",
    "    finally:\n",
    "        await dber.close()\n",
    "        print('done!')\n",
    "        \n",
    "if __name__ == '__main__':        \n",
    "    loop.run_until_complete(insert(loop))"
   ]
  },
  {
   "cell_type": "code",
   "execution_count": null,
   "metadata": {
    "collapsed": true
   },
   "outputs": [],
   "source": [
    "SQL_INSTRUCTION = \"\"\"INSERT INTO test(href, title, compound, layout,gross_floor_area, \n",
    "                    distribute, road, floor,orientation, rent_per_month, added_at,\n",
    "                    total_views, subway_line, subway_station,subway_distance, number, \n",
    "                    address,latest_week_views, room_type, img_url,captured_at) \n",
    "                    VALUES (%s, %s, %s, %s, %s,%s, %s, %s, %s, %s,%s, \n",
    "                    %s, %s, %s, %s,%s, %s, %s, %s, %s,%s, %s)\"\"\""
   ]
  }
 ],
 "metadata": {
  "kernelspec": {
   "display_name": "Python 3",
   "language": "python",
   "name": "python3"
  },
  "language_info": {
   "codemirror_mode": {
    "name": "ipython",
    "version": 3
   },
   "file_extension": ".py",
   "mimetype": "text/x-python",
   "name": "python",
   "nbconvert_exporter": "python",
   "pygments_lexer": "ipython3",
   "version": "3.5.3"
  }
 },
 "nbformat": 4,
 "nbformat_minor": 2
}
