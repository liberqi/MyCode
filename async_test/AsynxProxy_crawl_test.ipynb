{
 "cells": [
  {
   "cell_type": "code",
   "execution_count": null,
   "metadata": {
    "collapsed": true
   },
   "outputs": [],
   "source": [
    "import asyncio\n",
    "import aiohttp\n",
    "from proxybroker import Broker\n",
    "\n",
    "loop = asyncio.get_event_loop()"
   ]
  },
  {
   "cell_type": "code",
   "execution_count": null,
   "metadata": {
    "collapsed": true
   },
   "outputs": [],
   "source": [
    "class proxy_my:\n",
    "    \n",
    "    def __init__(self, proxy_pool=None, loop=None):\n",
    "        \n",
    "        self.loop = loop or asyncio.get_event_loop()\n",
    "        \n",
    "        self.proxy_pool = proxy_pool\n",
    "        \n",
    "        \n",
    "    async def show(self, proxies):\n",
    "        while True:\n",
    "            proxy = await proxies.get()\n",
    "            if proxy is None: break\n",
    "            print('Found proxy: %s' % proxy)\n",
    "        \n",
    "    \n",
    "    async def test_pool(self):\n",
    "        resp, proxy = None, None\n",
    "        for _ in range(3):\n",
    "            try:\n",
    "                print('*****proxy_pool:',self.proxy_pool)\n",
    "                proxy = await self.proxy_pool.get('HTTP')\n",
    "                print('*****proxy:',proxy)\n",
    "                proxy_url = 'http://%s:%d' % (proxy.host, proxy.port)\n",
    "                print('*****proxy_url:',proxy_url)\n",
    "            except Exception as e:\n",
    "                print('Error.  error: %r', e)\n",
    "            finally:\n",
    "                print('*****proxy_pool:',self.proxy_pool._proxies.qsize())\n",
    "                if proxy:\n",
    "                    self.proxy_pool.put(proxy)\n",
    "        \n",
    "\n",
    "\n",
    "def main():\n",
    "    loop = asyncio.get_event_loop()\n",
    "\n",
    "    proxies = asyncio.Queue(loop=loop)\n",
    "    proxy_pool = ProxyPool(proxies)\n",
    "    \n",
    "    judges = ['http://httpbin.org/get?show_env','https://httpbin.org/get?show_env']\n",
    "    \n",
    "    providers = [ 'http://ab57.ru/downloads/proxyold.txt']\n",
    "    \n",
    "    p = proxy_my(proxy_pool=proxy_pool, loop=loop)\n",
    "\n",
    "    broker = Broker(proxies, judges=judges,  loop=loop)\n",
    "\n",
    "    # types = [('HTTP', ('Anonymous', 'High')),'HTTPS']\n",
    "    \n",
    "    types = ['HTTP','HTTPS']\n",
    "\n",
    "#     urls = ['http://httpbin.org/get', 'http://httpbin.org/redirect/1',\n",
    "#             'http://httpbin.org/anything', 'http://httpbin.org/status/404']\n",
    "\n",
    "#     tasks = asyncio.gather(broker.find(types=types, ),\n",
    "#         p.test_pool())\n",
    "    tasks = asyncio.gather(broker.find(types=types, limit=10),\n",
    "        p.show(proxies))\n",
    "    loop.run_until_complete(tasks)\n",
    "\n",
    "#     broker.show_stats(verbose=True)\n",
    "\n",
    "\n",
    "if __name__ == '__main__':\n",
    "    main()\n",
    "    \n",
    "    \n",
    "\"\"\"\n",
    "*****proxy_pool: <proxybroker.server.ProxyPool object at 0x7f0764263ba8>\n",
    "*****proxy: <Proxy DE 0.28s [HTTP: High] 45.76.92.41:3128>\n",
    "*****proxy_url: http://45.76.92.41:3128\n",
    "*****proxy_pool: 0\n",
    "*****proxy_pool: <proxybroker.server.ProxyPool object at 0x7f0764263ba8>\n",
    "*****proxy: <Proxy DE 0.28s [HTTP: High] 45.76.92.41:3128>\n",
    "*****proxy_url: http://45.76.92.41:3128\n",
    "*****proxy_pool: 0\n",
    "*****proxy_pool: <proxybroker.server.ProxyPool object at 0x7f0764263ba8>\n",
    "*****proxy: <Proxy DE 0.28s [HTTP: High] 45.76.92.41:3128>\n",
    "*****proxy_url: http://45.76.92.41:3128\n",
    "*****proxy_pool: 0\n",
    "\"\"\""
   ]
  },
  {
   "cell_type": "code",
   "execution_count": null,
   "metadata": {
    "collapsed": true
   },
   "outputs": [],
   "source": [
    "import asyncio\n",
    "import aiohttp\n",
    " \n",
    "import uvloop\n",
    "\n",
    "asyncio.set_event_loop_policy(uvloop.EventLoopPolicy()) \n",
    "loop = asyncio.get_event_loop()\n",
    "\n",
    "from proxybroker import Provider"
   ]
  },
  {
   "cell_type": "code",
   "execution_count": null,
   "metadata": {},
   "outputs": [],
   "source": [
    "pr = Provider(ip181)\n",
    "ips = loop.run_until_complete(pr.get_proxies())\n",
    "[print(len(ip)) for ip in ips]"
   ]
  },
  {
   "cell_type": "code",
   "execution_count": null,
   "metadata": {},
   "outputs": [],
   "source": [
    "async def test_proxy():\n",
    "    try:\n",
    "    \n",
    "        urls = [data5u,xicidaili,_66ip,ip181,kxdaili,mimiip,proxy360,ip3366]\n",
    "        providers = [Provider(url) for url in urls]\n",
    "        tasks = [asyncio.ensure_future(pr.get_proxies())for pr in providers]\n",
    "\n",
    "        ips = await asyncio.gather(*tasks)\n",
    "        print(len(ips))\n",
    "        \n",
    "        return ips\n",
    "    \n",
    "    except Exception as e:\n",
    "        print(e)\n",
    "\n",
    "        \n",
    "loop.run_until_complete(test_proxy())\n",
    "[print(len(ip)) for ip in ips]"
   ]
  },
  {
   "cell_type": "code",
   "execution_count": null,
   "metadata": {
    "collapsed": true
   },
   "outputs": [],
   "source": [
    "# 无忧代理 20\n",
    "data5u = 'http://www.data5u.com/'\n",
    "\n",
    "# 西刺代理 99\n",
    "xicidaili = 'http://www.xicidaili.com/nn/'\n",
    "\n",
    "# 代理66 100\n",
    "_66ip  = 'http://www.66ip.cn/nmtq.php?getnum=100'\n",
    "    \n",
    "# 'http://www.66ip.cn/nmtq.php?getnum=512&isp=0&anonymoustype=0&start=&ports=&export=&ipaddress=&area=0&proxytype=2&api=66ip'\n",
    "\n",
    "# ip181 100\n",
    "ip181 = 'http://www.ip181.com/'\n",
    "          \n",
    "# 开心代理 \n",
    "kxdaili = 'http://www.kxdaili.com/'\n",
    "          \n",
    "# 秘密代理 30\n",
    "mimiip = 'http://www.mimiip.com/'\n",
    "          \n",
    "# proxy360.cn 30\n",
    "proxy360 = 'http://www.proxy360.cn/Region/China'\n",
    "          \n",
    "# ip3366 15\n",
    "ip3366 = 'http://www.ip3366.net/free/'"
   ]
  }
 ],
 "metadata": {
  "kernelspec": {
   "display_name": "Python 3",
   "language": "python",
   "name": "python3"
  },
  "language_info": {
   "codemirror_mode": {
    "name": "ipython",
    "version": 3
   },
   "file_extension": ".py",
   "mimetype": "text/x-python",
   "name": "python",
   "nbconvert_exporter": "python",
   "pygments_lexer": "ipython3",
   "version": "3.5.3"
  }
 },
 "nbformat": 4,
 "nbformat_minor": 2
}
